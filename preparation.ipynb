{
 "cells": [
  {
   "cell_type": "code",
   "execution_count": 1,
   "metadata": {},
   "outputs": [],
   "source": [
    "import pandas as pd\n",
    "import os\n",
    "import shutil "
   ]
  },
  {
   "cell_type": "code",
   "execution_count": 2,
   "metadata": {},
   "outputs": [],
   "source": [
    "#打开表格文件并读取\n",
    "f=open(\"../data/train/feats.csv\",\"rb\") #输入表格所在路径+名称\n",
    "list=pd.read_csv(f)\n",
    "\n",
    "#创建文件夹1，2，3，4\n",
    "for i in range(1,5):\n",
    "    os.mkdir(str(i))\n",
    "    \n",
    "#将不同的分类放进属于各自分类的文件\n",
    "for i in range(1,5):\n",
    "    listnew=list[list[\"molecular_subtype\"]==i]\n",
    "    l=listnew[\"id\"].tolist()\n",
    "    j=str(i)\n",
    "    for each in l:\n",
    "        shutil.move(each,j)"
   ]
  },
  {
   "cell_type": "code",
   "execution_count": 14,
   "metadata": {},
   "outputs": [
    {
     "data": {
      "text/plain": [
       "['1a0e54f07794fbb95a0fd7f0b4ef6f79ef1a9c83dbaa05cd940d4fe7cf03838d',\n",
       " '3bb7b408c231b432db1b1becc11ba90492c3c79bc4d1875fe6777c2e82a38c1d',\n",
       " '29e94e8450af6c4826d56b1938f4297c0ca0160ebd9931ca717833f687b06f9b',\n",
       " 'cd9918f5048b3dcdf0620c3be92752688d3d3cbb7e017e543d1654ecd907d485',\n",
       " '99be9d73dc97a49c57793e1d84d9e7a6a93b52db37cb74b205638c48273f68ea',\n",
       " '4b46c239a8a99f40942cd465afd1642254d3889c764643092ab09c057a706d46',\n",
       " '40336bff63056434fdc360041df017407dee8bc96cb3a713511b427face9475e',\n",
       " 'a346f1a28846093e80f3afd5ee06bd81fe7ed42f30ef95762b762dfa6a019fda',\n",
       " '130f616c00e6600c531895712866298f21c395e6e9ed11be95bed4630f735c22',\n",
       " '0171068ffcfac22e60db2aa4bd7de00cf63d1e2297981918533f799eaa753a6c',\n",
       " '89a5395ef5a21529ac3c25e30362e6d1c72044b945fadb74524a58dab41b22bf']"
      ]
     },
     "execution_count": 14,
     "metadata": {},
     "output_type": "execute_result"
    }
   ],
   "source": [
    "l"
   ]
  },
  {
   "cell_type": "code",
   "execution_count": null,
   "metadata": {},
   "outputs": [],
   "source": []
  }
 ],
 "metadata": {
  "kernelspec": {
   "display_name": "Python 3",
   "language": "python",
   "name": "python3"
  },
  "language_info": {
   "codemirror_mode": {
    "name": "ipython",
    "version": 3
   },
   "file_extension": ".py",
   "mimetype": "text/x-python",
   "name": "python",
   "nbconvert_exporter": "python",
   "pygments_lexer": "ipython3",
   "version": "3.7.1"
  }
 },
 "nbformat": 4,
 "nbformat_minor": 2
}
